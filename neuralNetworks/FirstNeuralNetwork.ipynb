{
 "cells": [
  {
   "cell_type": "code",
   "execution_count": 101,
   "metadata": {},
   "outputs": [],
   "source": [
    "import numpy as np\n",
    "import pandas as pd\n",
    "import matplotlib.pyplot as plt\n",
    "from typing import Callable, List"
   ]
  },
  {
   "cell_type": "code",
   "execution_count": 122,
   "metadata": {},
   "outputs": [],
   "source": [
    "function_array = Callable[[np.array], np.array]\n",
    "ChainRule = List[function_array]\n",
    "\n",
    "class SimpleNN:\n",
    "    \n",
    "    def __init__(self):\n",
    "        print(\"IN INIT METHOD\")\n",
    "        \n",
    "    def square(self, x:np.array)-> np.array :\n",
    "        return np.power(x,2)\n",
    "    \n",
    "    def leaky_relu(self, x:np.array)->np.array :\n",
    "        return np.maximum(0.2*x,x)\n",
    "    \n",
    "    def sigmoid(self, x:np.array)-> np.array :\n",
    "        return 1/1+np.exp(-x)\n",
    "    \n",
    "    def tanh(self, x:np.array)-> np.array :\n",
    "        return (np.exp(2*x)-1)/(np.exp(2*x)+1)\n",
    "    \n",
    "    def derivative(self, function: Callable[[np.array], np.array], input_: np.array, delta: float=0.01)-> np.array :\n",
    "        return (function(input_ + delta) - function(input_-delta))/(2*delta)\n",
    "    \n",
    "    def chain_derivative(self, functionChain : ChainRule, input: np.array)-> np.array :\n",
    "        first_function = functionChain[0]\n",
    "        second_function = functionChain[1]\n",
    "        derivative_of_x = self.derivative(first_function, input)\n",
    "        derivative_of_u = self.derivative(second_function, first_function(input))\n",
    "\n",
    "        return derivative_of_x * derivative_of_u \n"
   ]
  },
  {
   "cell_type": "code",
   "execution_count": 123,
   "metadata": {},
   "outputs": [
    {
     "name": "stdout",
     "output_type": "stream",
     "text": [
      "IN INIT METHOD\n"
     ]
    }
   ],
   "source": [
    "nn_model = SimpleNN()"
   ]
  },
  {
   "cell_type": "code",
   "execution_count": 124,
   "metadata": {},
   "outputs": [],
   "source": [
    "input = np.arange(-3,3,.01)"
   ]
  },
  {
   "cell_type": "code",
   "execution_count": 133,
   "metadata": {},
   "outputs": [
    {
     "data": {
      "text/plain": [
       "<matplotlib.legend.Legend at 0x115f450d0>"
      ]
     },
     "execution_count": 133,
     "metadata": {},
     "output_type": "execute_result"
    },
    {
     "data": {
      "image/png": "[encoded data removed]",
      "text/plain": [
       "<Figure size 432x288 with 1 Axes>"
      ]
     },
     "metadata": {
      "needs_background": "light"
     },
     "output_type": "display_data"
    }
   ],
   "source": [
    "ChainRule = [nn_model.square, nn_model.leaky_relu]\n",
    "plt.plot(nn_model.chain_derivative(ChainRule, input))\n",
    "\n",
    "ChainRule = [nn_model.square, nn_model.sigmoid]\n",
    "plt.plot(nn_model.chain_derivative(ChainRule, input))\n",
    "\n",
    "ChainRule = [nn_model.square, nn_model.tanh]\n",
    "plt.plot(nn_model.chain_derivative(ChainRule, input))\n",
    "plt.legend([\"leaky_relu(square(x))\",\"sigmoid(square(x))\",\"tanh(square(x))\"]) "
   ]
  },
  {
   "cell_type": "code",
   "execution_count": null,
   "metadata": {
    "scrolled": false
   },
   "outputs": [],
   "source": []
  },
  {
   "cell_type": "code",
   "execution_count": null,
   "metadata": {},
   "outputs": [],
   "source": []
  },
  {
   "cell_type": "code",
   "execution_count": null,
   "metadata": {},
   "outputs": [],
   "source": []
  }
 ],
 "metadata": {
  "kernelspec": {
   "display_name": "Python 3",
   "language": "python",
   "name": "python3"
  },
  "language_info": {
   "codemirror_mode": {
    "name": "ipython",
    "version": 3
   },
   "file_extension": ".py",
   "mimetype": "text/x-python",
   "name": "python",
   "nbconvert_exporter": "python",
   "pygments_lexer": "ipython3",
   "version": "3.8.5"
  }
 },
 "nbformat": 4,
 "nbformat_minor": 4
}
